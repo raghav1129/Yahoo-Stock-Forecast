{
  "nbformat": 4,
  "nbformat_minor": 0,
  "metadata": {
    "colab": {
      "name": "Yahoo Forecast.ipynb",
      "provenance": []
    },
    "kernelspec": {
      "name": "python3",
      "display_name": "Python 3"
    }
  },
  "cells": [
    {
      "cell_type": "code",
      "metadata": {
        "colab": {
          "base_uri": "https://localhost:8080/"
        },
        "id": "lGjvqSKRMuai",
        "outputId": "21f67d55-427a-480f-c2d6-34c908bfdee1"
      },
      "source": [
        "!pip install pmdarima\r\n",
        "import pandas as pd\r\n",
        "import numpy as np \r\n",
        "import matplotlib.pyplot as plt\r\n",
        "import seaborn as sns \r\n",
        "import pmdarima as pm\r\n",
        "from statsmodels.tsa.arima_model import ARIMA\r\n",
        "\r\n",
        "%matplotlib inline"
      ],
      "execution_count": null,
      "outputs": [
        {
          "output_type": "stream",
          "text": [
            "Requirement already satisfied: pmdarima in /usr/local/lib/python3.6/dist-packages (1.8.0)\n",
            "Requirement already satisfied: setuptools!=50.0.0,>=38.6.0 in /usr/local/lib/python3.6/dist-packages (from pmdarima) (51.3.3)\n",
            "Requirement already satisfied: urllib3 in /usr/local/lib/python3.6/dist-packages (from pmdarima) (1.24.3)\n",
            "Requirement already satisfied: pandas>=0.19 in /usr/local/lib/python3.6/dist-packages (from pmdarima) (1.1.5)\n",
            "Requirement already satisfied: statsmodels!=0.12.0,>=0.11 in /usr/local/lib/python3.6/dist-packages (from pmdarima) (0.12.1)\n",
            "Requirement already satisfied: scikit-learn>=0.22 in /usr/local/lib/python3.6/dist-packages (from pmdarima) (0.22.2.post1)\n",
            "Requirement already satisfied: joblib>=0.11 in /usr/local/lib/python3.6/dist-packages (from pmdarima) (1.0.0)\n",
            "Requirement already satisfied: numpy>=1.17.3 in /usr/local/lib/python3.6/dist-packages (from pmdarima) (1.19.5)\n",
            "Requirement already satisfied: Cython<0.29.18,>=0.29 in /usr/local/lib/python3.6/dist-packages (from pmdarima) (0.29.17)\n",
            "Requirement already satisfied: scipy>=1.3.2 in /usr/local/lib/python3.6/dist-packages (from pmdarima) (1.4.1)\n",
            "Requirement already satisfied: python-dateutil>=2.7.3 in /usr/local/lib/python3.6/dist-packages (from pandas>=0.19->pmdarima) (2.8.1)\n",
            "Requirement already satisfied: pytz>=2017.2 in /usr/local/lib/python3.6/dist-packages (from pandas>=0.19->pmdarima) (2018.9)\n",
            "Requirement already satisfied: patsy>=0.5 in /usr/local/lib/python3.6/dist-packages (from statsmodels!=0.12.0,>=0.11->pmdarima) (0.5.1)\n",
            "Requirement already satisfied: six>=1.5 in /usr/local/lib/python3.6/dist-packages (from python-dateutil>=2.7.3->pandas>=0.19->pmdarima) (1.15.0)\n"
          ],
          "name": "stdout"
        }
      ]
    },
    {
      "cell_type": "code",
      "metadata": {
        "id": "qSkPKKooM7rm"
      },
      "source": [
        "df = pd.read_csv('yahoo_stock.csv')"
      ],
      "execution_count": 307,
      "outputs": []
    },
    {
      "cell_type": "code",
      "metadata": {
        "colab": {
          "base_uri": "https://localhost:8080/",
          "height": 206
        },
        "id": "WUyOEWQ6NHNx",
        "outputId": "5f00a6cd-ad2b-4094-83d1-79237ac7d628"
      },
      "source": [
        "df.head()"
      ],
      "execution_count": 308,
      "outputs": [
        {
          "output_type": "execute_result",
          "data": {
            "text/html": [
              "<div>\n",
              "<style scoped>\n",
              "    .dataframe tbody tr th:only-of-type {\n",
              "        vertical-align: middle;\n",
              "    }\n",
              "\n",
              "    .dataframe tbody tr th {\n",
              "        vertical-align: top;\n",
              "    }\n",
              "\n",
              "    .dataframe thead th {\n",
              "        text-align: right;\n",
              "    }\n",
              "</style>\n",
              "<table border=\"1\" class=\"dataframe\">\n",
              "  <thead>\n",
              "    <tr style=\"text-align: right;\">\n",
              "      <th></th>\n",
              "      <th>Date</th>\n",
              "      <th>High</th>\n",
              "      <th>Low</th>\n",
              "      <th>Open</th>\n",
              "      <th>Close</th>\n",
              "      <th>Volume</th>\n",
              "      <th>Adj Close</th>\n",
              "    </tr>\n",
              "  </thead>\n",
              "  <tbody>\n",
              "    <tr>\n",
              "      <th>0</th>\n",
              "      <td>2015-11-23</td>\n",
              "      <td>2095.610107</td>\n",
              "      <td>2081.389893</td>\n",
              "      <td>2089.409912</td>\n",
              "      <td>2086.590088</td>\n",
              "      <td>3.587980e+09</td>\n",
              "      <td>2086.590088</td>\n",
              "    </tr>\n",
              "    <tr>\n",
              "      <th>1</th>\n",
              "      <td>2015-11-24</td>\n",
              "      <td>2094.120117</td>\n",
              "      <td>2070.290039</td>\n",
              "      <td>2084.419922</td>\n",
              "      <td>2089.139893</td>\n",
              "      <td>3.884930e+09</td>\n",
              "      <td>2089.139893</td>\n",
              "    </tr>\n",
              "    <tr>\n",
              "      <th>2</th>\n",
              "      <td>2015-11-25</td>\n",
              "      <td>2093.000000</td>\n",
              "      <td>2086.300049</td>\n",
              "      <td>2089.300049</td>\n",
              "      <td>2088.870117</td>\n",
              "      <td>2.852940e+09</td>\n",
              "      <td>2088.870117</td>\n",
              "    </tr>\n",
              "    <tr>\n",
              "      <th>3</th>\n",
              "      <td>2015-11-26</td>\n",
              "      <td>2093.000000</td>\n",
              "      <td>2086.300049</td>\n",
              "      <td>2089.300049</td>\n",
              "      <td>2088.870117</td>\n",
              "      <td>2.852940e+09</td>\n",
              "      <td>2088.870117</td>\n",
              "    </tr>\n",
              "    <tr>\n",
              "      <th>4</th>\n",
              "      <td>2015-11-27</td>\n",
              "      <td>2093.290039</td>\n",
              "      <td>2084.129883</td>\n",
              "      <td>2088.820068</td>\n",
              "      <td>2090.110107</td>\n",
              "      <td>1.466840e+09</td>\n",
              "      <td>2090.110107</td>\n",
              "    </tr>\n",
              "  </tbody>\n",
              "</table>\n",
              "</div>"
            ],
            "text/plain": [
              "         Date         High          Low  ...        Close        Volume    Adj Close\n",
              "0  2015-11-23  2095.610107  2081.389893  ...  2086.590088  3.587980e+09  2086.590088\n",
              "1  2015-11-24  2094.120117  2070.290039  ...  2089.139893  3.884930e+09  2089.139893\n",
              "2  2015-11-25  2093.000000  2086.300049  ...  2088.870117  2.852940e+09  2088.870117\n",
              "3  2015-11-26  2093.000000  2086.300049  ...  2088.870117  2.852940e+09  2088.870117\n",
              "4  2015-11-27  2093.290039  2084.129883  ...  2090.110107  1.466840e+09  2090.110107\n",
              "\n",
              "[5 rows x 7 columns]"
            ]
          },
          "metadata": {
            "tags": []
          },
          "execution_count": 308
        }
      ]
    },
    {
      "cell_type": "markdown",
      "metadata": {
        "id": "OgReNCqgNMWx"
      },
      "source": [
        "We are going to be working on the open and close data and try to predict the open and closing prices of yahoo stocks"
      ]
    },
    {
      "cell_type": "code",
      "metadata": {
        "id": "6mNGfpB7NICI"
      },
      "source": [
        "yahoo_open = df[['Open', 'Date']].copy()\r\n",
        "yahoo_close = df[['Close', 'Date']].copy()"
      ],
      "execution_count": 309,
      "outputs": []
    },
    {
      "cell_type": "code",
      "metadata": {
        "colab": {
          "base_uri": "https://localhost:8080/",
          "height": 206
        },
        "id": "ycagok6rNJx5",
        "outputId": "984896cf-8943-478a-c16f-428c6b94b63f"
      },
      "source": [
        "yahoo_open.head()"
      ],
      "execution_count": 293,
      "outputs": [
        {
          "output_type": "execute_result",
          "data": {
            "text/html": [
              "<div>\n",
              "<style scoped>\n",
              "    .dataframe tbody tr th:only-of-type {\n",
              "        vertical-align: middle;\n",
              "    }\n",
              "\n",
              "    .dataframe tbody tr th {\n",
              "        vertical-align: top;\n",
              "    }\n",
              "\n",
              "    .dataframe thead th {\n",
              "        text-align: right;\n",
              "    }\n",
              "</style>\n",
              "<table border=\"1\" class=\"dataframe\">\n",
              "  <thead>\n",
              "    <tr style=\"text-align: right;\">\n",
              "      <th></th>\n",
              "      <th>Open</th>\n",
              "      <th>Date</th>\n",
              "    </tr>\n",
              "  </thead>\n",
              "  <tbody>\n",
              "    <tr>\n",
              "      <th>0</th>\n",
              "      <td>2089.409912</td>\n",
              "      <td>2015-11-23</td>\n",
              "    </tr>\n",
              "    <tr>\n",
              "      <th>1</th>\n",
              "      <td>2084.419922</td>\n",
              "      <td>2015-11-24</td>\n",
              "    </tr>\n",
              "    <tr>\n",
              "      <th>2</th>\n",
              "      <td>2089.300049</td>\n",
              "      <td>2015-11-25</td>\n",
              "    </tr>\n",
              "    <tr>\n",
              "      <th>3</th>\n",
              "      <td>2089.300049</td>\n",
              "      <td>2015-11-26</td>\n",
              "    </tr>\n",
              "    <tr>\n",
              "      <th>4</th>\n",
              "      <td>2088.820068</td>\n",
              "      <td>2015-11-27</td>\n",
              "    </tr>\n",
              "  </tbody>\n",
              "</table>\n",
              "</div>"
            ],
            "text/plain": [
              "          Open        Date\n",
              "0  2089.409912  2015-11-23\n",
              "1  2084.419922  2015-11-24\n",
              "2  2089.300049  2015-11-25\n",
              "3  2089.300049  2015-11-26\n",
              "4  2088.820068  2015-11-27"
            ]
          },
          "metadata": {
            "tags": []
          },
          "execution_count": 293
        }
      ]
    },
    {
      "cell_type": "code",
      "metadata": {
        "colab": {
          "base_uri": "https://localhost:8080/"
        },
        "id": "l3hz7JRCYvE8",
        "outputId": "ab007574-b897-4593-fd33-bdee8cc9a61f"
      },
      "source": [
        "yahoo_open.info()"
      ],
      "execution_count": 294,
      "outputs": [
        {
          "output_type": "stream",
          "text": [
            "<class 'pandas.core.frame.DataFrame'>\n",
            "RangeIndex: 1825 entries, 0 to 1824\n",
            "Data columns (total 2 columns):\n",
            " #   Column  Non-Null Count  Dtype  \n",
            "---  ------  --------------  -----  \n",
            " 0   Open    1825 non-null   float64\n",
            " 1   Date    1825 non-null   object \n",
            "dtypes: float64(1), object(1)\n",
            "memory usage: 28.6+ KB\n"
          ],
          "name": "stdout"
        }
      ]
    },
    {
      "cell_type": "code",
      "metadata": {
        "colab": {
          "base_uri": "https://localhost:8080/",
          "height": 206
        },
        "id": "PfFEcUH8NkgK",
        "outputId": "e0126154-1fe1-4fb1-96fc-703a4e61529b"
      },
      "source": [
        "yahoo_close.head()"
      ],
      "execution_count": 295,
      "outputs": [
        {
          "output_type": "execute_result",
          "data": {
            "text/html": [
              "<div>\n",
              "<style scoped>\n",
              "    .dataframe tbody tr th:only-of-type {\n",
              "        vertical-align: middle;\n",
              "    }\n",
              "\n",
              "    .dataframe tbody tr th {\n",
              "        vertical-align: top;\n",
              "    }\n",
              "\n",
              "    .dataframe thead th {\n",
              "        text-align: right;\n",
              "    }\n",
              "</style>\n",
              "<table border=\"1\" class=\"dataframe\">\n",
              "  <thead>\n",
              "    <tr style=\"text-align: right;\">\n",
              "      <th></th>\n",
              "      <th>Close</th>\n",
              "      <th>Date</th>\n",
              "    </tr>\n",
              "  </thead>\n",
              "  <tbody>\n",
              "    <tr>\n",
              "      <th>0</th>\n",
              "      <td>2086.590088</td>\n",
              "      <td>2015-11-23</td>\n",
              "    </tr>\n",
              "    <tr>\n",
              "      <th>1</th>\n",
              "      <td>2089.139893</td>\n",
              "      <td>2015-11-24</td>\n",
              "    </tr>\n",
              "    <tr>\n",
              "      <th>2</th>\n",
              "      <td>2088.870117</td>\n",
              "      <td>2015-11-25</td>\n",
              "    </tr>\n",
              "    <tr>\n",
              "      <th>3</th>\n",
              "      <td>2088.870117</td>\n",
              "      <td>2015-11-26</td>\n",
              "    </tr>\n",
              "    <tr>\n",
              "      <th>4</th>\n",
              "      <td>2090.110107</td>\n",
              "      <td>2015-11-27</td>\n",
              "    </tr>\n",
              "  </tbody>\n",
              "</table>\n",
              "</div>"
            ],
            "text/plain": [
              "         Close        Date\n",
              "0  2086.590088  2015-11-23\n",
              "1  2089.139893  2015-11-24\n",
              "2  2088.870117  2015-11-25\n",
              "3  2088.870117  2015-11-26\n",
              "4  2090.110107  2015-11-27"
            ]
          },
          "metadata": {
            "tags": []
          },
          "execution_count": 295
        }
      ]
    },
    {
      "cell_type": "code",
      "metadata": {
        "colab": {
          "base_uri": "https://localhost:8080/"
        },
        "id": "F3B8ctUqYya6",
        "outputId": "c5da9181-5add-402c-b6a7-421dcb3c413f"
      },
      "source": [
        "yahoo_close.info()"
      ],
      "execution_count": 296,
      "outputs": [
        {
          "output_type": "stream",
          "text": [
            "<class 'pandas.core.frame.DataFrame'>\n",
            "RangeIndex: 1825 entries, 0 to 1824\n",
            "Data columns (total 2 columns):\n",
            " #   Column  Non-Null Count  Dtype  \n",
            "---  ------  --------------  -----  \n",
            " 0   Close   1825 non-null   float64\n",
            " 1   Date    1825 non-null   object \n",
            "dtypes: float64(1), object(1)\n",
            "memory usage: 28.6+ KB\n"
          ],
          "name": "stdout"
        }
      ]
    },
    {
      "cell_type": "markdown",
      "metadata": {
        "id": "cPMMqCMmNz_B"
      },
      "source": [
        "converting Date to timestamp and restting index"
      ]
    },
    {
      "cell_type": "code",
      "metadata": {
        "id": "3af_umVPzPwP"
      },
      "source": [
        "yahoo_open['Date'] = pd.to_datetime(yahoo_open['Date'])\r\n",
        "yahoo_open.set_index(['Date'],inplace = True)\r\n"
      ],
      "execution_count": 315,
      "outputs": []
    },
    {
      "cell_type": "code",
      "metadata": {
        "id": "JoB5M7O82n2I"
      },
      "source": [
        "yahoo_close['Date'] = pd.to_datetime(yahoo_close['Date'])\r\n",
        "yahoo_close.set_index(['Date'],inplace = True)"
      ],
      "execution_count": 316,
      "outputs": []
    },
    {
      "cell_type": "markdown",
      "metadata": {
        "id": "wxRcYCdz3_r4"
      },
      "source": [
        "# Open Stocks Data\r\n",
        "We will forst look at yahoo's stock opening data"
      ]
    },
    {
      "cell_type": "code",
      "metadata": {
        "colab": {
          "base_uri": "https://localhost:8080/",
          "height": 237
        },
        "id": "fPXYxOzz33Tg",
        "outputId": "8d07d3b6-85e2-4195-8f63-70bc7eea1e7c"
      },
      "source": [
        "yahoo_open.head()"
      ],
      "execution_count": 299,
      "outputs": [
        {
          "output_type": "execute_result",
          "data": {
            "text/html": [
              "<div>\n",
              "<style scoped>\n",
              "    .dataframe tbody tr th:only-of-type {\n",
              "        vertical-align: middle;\n",
              "    }\n",
              "\n",
              "    .dataframe tbody tr th {\n",
              "        vertical-align: top;\n",
              "    }\n",
              "\n",
              "    .dataframe thead th {\n",
              "        text-align: right;\n",
              "    }\n",
              "</style>\n",
              "<table border=\"1\" class=\"dataframe\">\n",
              "  <thead>\n",
              "    <tr style=\"text-align: right;\">\n",
              "      <th></th>\n",
              "      <th>Open</th>\n",
              "    </tr>\n",
              "    <tr>\n",
              "      <th>Date</th>\n",
              "      <th></th>\n",
              "    </tr>\n",
              "  </thead>\n",
              "  <tbody>\n",
              "    <tr>\n",
              "      <th>2015-11-23</th>\n",
              "      <td>2089.409912</td>\n",
              "    </tr>\n",
              "    <tr>\n",
              "      <th>2015-11-24</th>\n",
              "      <td>2084.419922</td>\n",
              "    </tr>\n",
              "    <tr>\n",
              "      <th>2015-11-25</th>\n",
              "      <td>2089.300049</td>\n",
              "    </tr>\n",
              "    <tr>\n",
              "      <th>2015-11-26</th>\n",
              "      <td>2089.300049</td>\n",
              "    </tr>\n",
              "    <tr>\n",
              "      <th>2015-11-27</th>\n",
              "      <td>2088.820068</td>\n",
              "    </tr>\n",
              "  </tbody>\n",
              "</table>\n",
              "</div>"
            ],
            "text/plain": [
              "                   Open\n",
              "Date                   \n",
              "2015-11-23  2089.409912\n",
              "2015-11-24  2084.419922\n",
              "2015-11-25  2089.300049\n",
              "2015-11-26  2089.300049\n",
              "2015-11-27  2088.820068"
            ]
          },
          "metadata": {
            "tags": []
          },
          "execution_count": 299
        }
      ]
    },
    {
      "cell_type": "markdown",
      "metadata": {
        "id": "3HzgHOMP4MyY"
      },
      "source": [
        "The data is daily data which is hard to forecast and hence have to be resampled into Monthly data"
      ]
    },
    {
      "cell_type": "code",
      "metadata": {
        "colab": {
          "base_uri": "https://localhost:8080/",
          "height": 297
        },
        "id": "8yGBwlcg4KsP",
        "outputId": "00575f94-dc27-43d6-e9aa-ffb6ddcba74d"
      },
      "source": [
        "yahoo_open.plot(grid = True)"
      ],
      "execution_count": 300,
      "outputs": [
        {
          "output_type": "execute_result",
          "data": {
            "text/plain": [
              "<matplotlib.axes._subplots.AxesSubplot at 0x7fd4a325eb70>"
            ]
          },
          "metadata": {
            "tags": []
          },
          "execution_count": 300
        },
        {
          "output_type": "display_data",
          "data": {
            "image/png": "[encoded data removed]",
            "text/plain": [
              "<Figure size 432x288 with 1 Axes>"
            ]
          },
          "metadata": {
            "tags": [],
            "needs_background": "light"
          }
        }
      ]
    },
    {
      "cell_type": "markdown",
      "metadata": {
        "id": "vzSwF_2L4kC_"
      },
      "source": [
        "We see a major dip in yahoo stokcs somewhere arround the start of 2020. Lets analyze that area more."
      ]
    },
    {
      "cell_type": "code",
      "metadata": {
        "colab": {
          "base_uri": "https://localhost:8080/",
          "height": 309
        },
        "id": "dcfDWj3M4Weg",
        "outputId": "3965c0e9-bd41-45ac-f440-982a776b1a9a"
      },
      "source": [
        "yahoo_open_2020 = yahoo_open['01-01-2020' : '31-12-2020']\r\n",
        "yahoo_open_2020.plot()"
      ],
      "execution_count": 301,
      "outputs": [
        {
          "output_type": "execute_result",
          "data": {
            "text/plain": [
              "<matplotlib.axes._subplots.AxesSubplot at 0x7fd4a322bd30>"
            ]
          },
          "metadata": {
            "tags": []
          },
          "execution_count": 301
        },
        {
          "output_type": "display_data",
          "data": {
            "image/png": "[encoded data removed]",
            "text/plain": [
              "<Figure size 432x288 with 1 Axes>"
            ]
          },
          "metadata": {
            "tags": [],
            "needs_background": "light"
          }
        }
      ]
    },
    {
      "cell_type": "markdown",
      "metadata": {
        "id": "DhrBnr8g5Cvg"
      },
      "source": [
        "There is dip in the stock prices statring from the month of March and going up after April. This is also the time around which COVID hit the countries and most of the world was on lockdown. So the dip is justified."
      ]
    },
    {
      "cell_type": "code",
      "metadata": {
        "colab": {
          "base_uri": "https://localhost:8080/",
          "height": 297
        },
        "id": "RL09aEXA47Zf",
        "outputId": "a30e005d-3705-491d-82c2-8c64ba8f96a1"
      },
      "source": [
        "#smoothen out sereis to check for seasonality\r\n",
        "yahoo_open_rolling = yahoo_open['Open'].rolling(window = 50).mean()\r\n",
        "yahoo_open_rolling.plot()"
      ],
      "execution_count": 302,
      "outputs": [
        {
          "output_type": "execute_result",
          "data": {
            "text/plain": [
              "<matplotlib.axes._subplots.AxesSubplot at 0x7fd4a3094080>"
            ]
          },
          "metadata": {
            "tags": []
          },
          "execution_count": 302
        },
        {
          "output_type": "display_data",
          "data": {
            "image/png": "[encoded data removed]",
            "text/plain": [
              "<Figure size 432x288 with 1 Axes>"
            ]
          },
          "metadata": {
            "tags": [],
            "needs_background": "light"
          }
        }
      ]
    },
    {
      "cell_type": "code",
      "metadata": {
        "id": "lN667GyxpF9j"
      },
      "source": [
        "#Converting data to monthly data\r\n",
        "yahoo_open = yahoo_open.resample('MS').mean()"
      ],
      "execution_count": 328,
      "outputs": []
    },
    {
      "cell_type": "code",
      "metadata": {
        "colab": {
          "base_uri": "https://localhost:8080/"
        },
        "id": "iOz6z7lJyAsm",
        "outputId": "4ec94a57-328d-41a0-acd3-a60e6d4dffa9"
      },
      "source": [
        "yahoo_open.shape"
      ],
      "execution_count": 329,
      "outputs": [
        {
          "output_type": "execute_result",
          "data": {
            "text/plain": [
              "(61, 1)"
            ]
          },
          "metadata": {
            "tags": []
          },
          "execution_count": 329
        }
      ]
    },
    {
      "cell_type": "markdown",
      "metadata": {
        "id": "CZ80tpBp6VQo"
      },
      "source": [
        "## Staionarity"
      ]
    },
    {
      "cell_type": "code",
      "metadata": {
        "colab": {
          "base_uri": "https://localhost:8080/"
        },
        "id": "fflOVyRf5hKa",
        "outputId": "9f45b25d-5643-4544-b495-c04bbf6664f2"
      },
      "source": [
        "from statsmodels.tsa.stattools import adfuller\r\n",
        "adf_open = adfuller(yahoo_open['Open'], autolag='AIC')\r\n",
        "\r\n",
        "print(f'ADF Statistics : {adf_open[0]}')\r\n",
        "print(f'p-value : {adf_open[1]}')\r\n",
        "\r\n",
        "for key, value in adf_open[4].items() :\r\n",
        "  print('Criteria Value')\r\n",
        "  print(f'{key}:{value}')"
      ],
      "execution_count": null,
      "outputs": [
        {
          "output_type": "stream",
          "text": [
            "ADF Statistics : -0.40903069505155853\n",
            "p-value : 0.908580020524435\n",
            "Criteria Value\n",
            "1%:-3.5443688564814813\n",
            "Criteria Value\n",
            "5%:-2.9110731481481484\n",
            "Criteria Value\n",
            "10%:-2.5931902777777776\n"
          ],
          "name": "stdout"
        }
      ]
    },
    {
      "cell_type": "markdown",
      "metadata": {
        "id": "06FWhT-jZSKo"
      },
      "source": [
        "Since p-value is not < 0.05 the open and close stock series is not Stationary "
      ]
    },
    {
      "cell_type": "code",
      "metadata": {
        "colab": {
          "base_uri": "https://localhost:8080/",
          "height": 297
        },
        "id": "nWOjH2sbpUji",
        "outputId": "b30ba0bc-0673-4dc0-e2d1-cad5901d583b"
      },
      "source": [
        "yahoo_open['Open'].plot()"
      ],
      "execution_count": 332,
      "outputs": [
        {
          "output_type": "execute_result",
          "data": {
            "text/plain": [
              "<matplotlib.axes._subplots.AxesSubplot at 0x7fd4a2b81ac8>"
            ]
          },
          "metadata": {
            "tags": []
          },
          "execution_count": 332
        },
        {
          "output_type": "display_data",
          "data": {
            "image/png": "[encoded data removed]",
            "text/plain": [
              "<Figure size 432x288 with 1 Axes>"
            ]
          },
          "metadata": {
            "tags": [],
            "needs_background": "light"
          }
        }
      ]
    },
    {
      "cell_type": "markdown",
      "metadata": {
        "id": "XQzkyBRHppyS"
      },
      "source": [
        "Not much information can be gained abput seasonality from this plot about the stock data. Lets do Seasonal Decompose to get a better idea."
      ]
    },
    {
      "cell_type": "code",
      "metadata": {
        "colab": {
          "base_uri": "https://localhost:8080/",
          "height": 297
        },
        "id": "JC-LjnvgpnUP",
        "outputId": "3bf4e872-fc9c-4b06-ec19-3432b406b872"
      },
      "source": [
        "from statsmodels.tsa.seasonal import seasonal_decompose\r\n",
        "open = seasonal_decompose(yahoo_open['Open'].dropna())\r\n",
        "x = open.plot()"
      ],
      "execution_count": null,
      "outputs": [
        {
          "output_type": "display_data",
          "data": {
            "image/png": "[encoded data removed]",
            "text/plain": [
              "<Figure size 432x288 with 4 Axes>"
            ]
          },
          "metadata": {
            "tags": [],
            "needs_background": "light"
          }
        }
      ]
    },
    {
      "cell_type": "markdown",
      "metadata": {
        "id": "Bl7lPWdEp0LQ"
      },
      "source": [
        "From the plot we can see that there is some seasonal trend in our series."
      ]
    },
    {
      "cell_type": "code",
      "metadata": {
        "id": "zGflNXd5ZKV1"
      },
      "source": [
        "#Differencing the series to make it Stationary \r\n",
        "#Open Stock Price Data\r\n",
        "yahoo_open['First Differencing'] = yahoo_open['Open'] - yahoo_open['Open'].shift()\r\n",
        "yahoo_open['Seasonal Differencing'] = yahoo_open['Open'] - yahoo_open['Open'].shift(12)"
      ],
      "execution_count": null,
      "outputs": []
    },
    {
      "cell_type": "code",
      "metadata": {
        "colab": {
          "base_uri": "https://localhost:8080/",
          "height": 297
        },
        "id": "do8-WvZjZyxQ",
        "outputId": "d7f1492b-da7e-44d5-ce4a-a44088d2eced"
      },
      "source": [
        "#Plot Open Data \r\n",
        "yahoo_open['Open'].plot()\r\n",
        "yahoo_open['First Differencing'].plot(color = 'red')\r\n",
        "yahoo_open['Seasonal Differencing'].plot(color = 'green', alpha = 0.8)"
      ],
      "execution_count": null,
      "outputs": [
        {
          "output_type": "execute_result",
          "data": {
            "text/plain": [
              "<matplotlib.axes._subplots.AxesSubplot at 0x7fd4a3740048>"
            ]
          },
          "metadata": {
            "tags": []
          },
          "execution_count": 240
        },
        {
          "output_type": "display_data",
          "data": {
            "image/png": "[encoded data removed]",
            "text/plain": [
              "<Figure size 432x288 with 1 Axes>"
            ]
          },
          "metadata": {
            "tags": [],
            "needs_background": "light"
          }
        }
      ]
    },
    {
      "cell_type": "markdown",
      "metadata": {
        "id": "R_v3l77aaTht"
      },
      "source": [
        "A first level differencing makes the series Stationary therefore we will set d=1;\r\n"
      ]
    },
    {
      "cell_type": "code",
      "metadata": {
        "colab": {
          "base_uri": "https://localhost:8080/"
        },
        "id": "cN3x6UW6rzEY",
        "outputId": "8bc1f05f-ca0e-403e-e65f-02578aaeaff8"
      },
      "source": [
        "from statsmodels.tsa.stattools import adfuller\r\n",
        "adf_open = adfuller(yahoo_open['Seasonal Differencing'].dropna(), autolag='AIC')\r\n",
        "\r\n",
        "print(f'ADF Statistics : {adf_open[0]}')\r\n",
        "print(f'p-value : {adf_open[1]}')\r\n",
        "\r\n",
        "for key, value in adf_open[4].items() :\r\n",
        "  print('Criteria Value')\r\n",
        "  print(f'{key}:{value}')"
      ],
      "execution_count": null,
      "outputs": [
        {
          "output_type": "stream",
          "text": [
            "ADF Statistics : -4.183162771153319\n",
            "p-value : 0.0007035012952065601\n",
            "Criteria Value\n",
            "1%:-3.5778480370438146\n",
            "Criteria Value\n",
            "5%:-2.925338105429433\n",
            "Criteria Value\n",
            "10%:-2.6007735310095064\n"
          ],
          "name": "stdout"
        }
      ]
    },
    {
      "cell_type": "markdown",
      "metadata": {
        "id": "BgwnpzWBr-Px"
      },
      "source": [
        "Since p-value has gotten <0.05 after first differencing we will set d=1;"
      ]
    },
    {
      "cell_type": "markdown",
      "metadata": {
        "id": "HLZdLVPsaiAH"
      },
      "source": [
        "## Doing ACF and PACF plot to find AR and MA terms for the ARIMA model."
      ]
    },
    {
      "cell_type": "code",
      "metadata": {
        "colab": {
          "base_uri": "https://localhost:8080/",
          "height": 238
        },
        "id": "2CYrrj0FwbtN",
        "outputId": "d11155d7-ca98-4ff1-9914-dc7ca22cd48d"
      },
      "source": [
        "yahoo_open.head()"
      ],
      "execution_count": null,
      "outputs": [
        {
          "output_type": "execute_result",
          "data": {
            "text/html": [
              "<div>\n",
              "<style scoped>\n",
              "    .dataframe tbody tr th:only-of-type {\n",
              "        vertical-align: middle;\n",
              "    }\n",
              "\n",
              "    .dataframe tbody tr th {\n",
              "        vertical-align: top;\n",
              "    }\n",
              "\n",
              "    .dataframe thead th {\n",
              "        text-align: right;\n",
              "    }\n",
              "</style>\n",
              "<table border=\"1\" class=\"dataframe\">\n",
              "  <thead>\n",
              "    <tr style=\"text-align: right;\">\n",
              "      <th></th>\n",
              "      <th>Open</th>\n",
              "      <th>First Differencing</th>\n",
              "      <th>Seasonal Differencing</th>\n",
              "    </tr>\n",
              "    <tr>\n",
              "      <th>Date</th>\n",
              "      <th></th>\n",
              "      <th></th>\n",
              "      <th></th>\n",
              "    </tr>\n",
              "  </thead>\n",
              "  <tbody>\n",
              "    <tr>\n",
              "      <th>2015-11-01</th>\n",
              "      <td>2088.730011</td>\n",
              "      <td>NaN</td>\n",
              "      <td>NaN</td>\n",
              "    </tr>\n",
              "    <tr>\n",
              "      <th>2015-12-01</th>\n",
              "      <td>2054.881942</td>\n",
              "      <td>-33.848069</td>\n",
              "      <td>NaN</td>\n",
              "    </tr>\n",
              "    <tr>\n",
              "      <th>2016-01-01</th>\n",
              "      <td>1933.377111</td>\n",
              "      <td>-121.504832</td>\n",
              "      <td>NaN</td>\n",
              "    </tr>\n",
              "    <tr>\n",
              "      <th>2016-02-01</th>\n",
              "      <td>1902.269641</td>\n",
              "      <td>-31.107470</td>\n",
              "      <td>NaN</td>\n",
              "    </tr>\n",
              "    <tr>\n",
              "      <th>2016-03-01</th>\n",
              "      <td>2016.150962</td>\n",
              "      <td>113.881321</td>\n",
              "      <td>NaN</td>\n",
              "    </tr>\n",
              "  </tbody>\n",
              "</table>\n",
              "</div>"
            ],
            "text/plain": [
              "                   Open  First Differencing  Seasonal Differencing\n",
              "Date                                                              \n",
              "2015-11-01  2088.730011                 NaN                    NaN\n",
              "2015-12-01  2054.881942          -33.848069                    NaN\n",
              "2016-01-01  1933.377111         -121.504832                    NaN\n",
              "2016-02-01  1902.269641          -31.107470                    NaN\n",
              "2016-03-01  2016.150962          113.881321                    NaN"
            ]
          },
          "metadata": {
            "tags": []
          },
          "execution_count": 242
        }
      ]
    },
    {
      "cell_type": "code",
      "metadata": {
        "id": "QoMrk1cCZ88I"
      },
      "source": [
        "from statsmodels.graphics.tsaplots import plot_acf, plot_pacf"
      ],
      "execution_count": null,
      "outputs": []
    },
    {
      "cell_type": "code",
      "metadata": {
        "colab": {
          "base_uri": "https://localhost:8080/",
          "height": 281
        },
        "id": "U1lXv2ahnA99",
        "outputId": "7365af69-3166-4b44-c8cd-8f7c41926bdc"
      },
      "source": [
        "MA_term = plot_acf(yahoo_open['Open'].dropna(), lags = 40)\r\n"
      ],
      "execution_count": null,
      "outputs": [
        {
          "output_type": "display_data",
          "data": {
            "image/png": "[encoded data removed]",
            "text/plain": [
              "<Figure size 432x288 with 1 Axes>"
            ]
          },
          "metadata": {
            "tags": [],
            "needs_background": "light"
          }
        }
      ]
    },
    {
      "cell_type": "code",
      "metadata": {
        "colab": {
          "base_uri": "https://localhost:8080/",
          "height": 281
        },
        "id": "GS1LrANXnXcP",
        "outputId": "2a542963-f003-4165-bcd4-60ae868fb927"
      },
      "source": [
        "AR_term = plot_pacf(yahoo_open['Open'].dropna())\r\n"
      ],
      "execution_count": null,
      "outputs": [
        {
          "output_type": "display_data",
          "data": {
            "image/png": "[encoded data removed]",
            "text/plain": [
              "<Figure size 432x288 with 1 Axes>"
            ]
          },
          "metadata": {
            "tags": [],
            "needs_background": "light"
          }
        }
      ]
    },
    {
      "cell_type": "code",
      "metadata": {
        "colab": {
          "base_uri": "https://localhost:8080/",
          "height": 281
        },
        "id": "bXmv55DFE195",
        "outputId": "237e1f85-ce76-4670-a344-09cf6079fa42"
      },
      "source": [
        "MA_Seasonal_term = plot_acf(yahoo_open['Seasonal Differencing'].dropna(), lags = 40)"
      ],
      "execution_count": null,
      "outputs": [
        {
          "output_type": "display_data",
          "data": {
            "image/png": "[encoded data removed]",
            "text/plain": [
              "<Figure size 432x288 with 1 Axes>"
            ]
          },
          "metadata": {
            "tags": [],
            "needs_background": "light"
          }
        }
      ]
    },
    {
      "cell_type": "code",
      "metadata": {
        "colab": {
          "base_uri": "https://localhost:8080/",
          "height": 281
        },
        "id": "ImBqy1noFA9c",
        "outputId": "0bd3153f-7536-482a-b7e0-fc2543a70326"
      },
      "source": [
        "AR_Seasonal_term = plot_pacf(yahoo_open['Seasonal Differencing'].dropna())"
      ],
      "execution_count": null,
      "outputs": [
        {
          "output_type": "display_data",
          "data": {
            "image/png": "[encoded data removed]",
            "text/plain": [
              "<Figure size 432x288 with 1 Axes>"
            ]
          },
          "metadata": {
            "tags": [],
            "needs_background": "light"
          }
        }
      ]
    },
    {
      "cell_type": "markdown",
      "metadata": {
        "id": "_Z6eoUqOvfXA"
      },
      "source": [
        "## Training ARIMA Model\r\n",
        "Training ARIMA model for Open Stocks Data"
      ]
    },
    {
      "cell_type": "code",
      "metadata": {
        "colab": {
          "base_uri": "https://localhost:8080/"
        },
        "id": "3eayuoChv7j5",
        "outputId": "2ae524d7-5d82-46d3-d8cf-76a6f052393a"
      },
      "source": [
        "from statsmodels.tsa.statespace.sarimax import SARIMAX\r\n",
        "model = SARIMAX(yahoo_open['Open'], order = (1,1,4), seasonal_order = (1,1,2,12))\r\n",
        "result = model.fit()\r\n"
      ],
      "execution_count": null,
      "outputs": [
        {
          "output_type": "stream",
          "text": [
            "/usr/local/lib/python3.6/dist-packages/statsmodels/tsa/statespace/sarimax.py:868: UserWarning: Too few observations to estimate starting parameters for seasonal ARMA. All parameters except for variances will be set to zeros.\n",
            "  ' zeros.' % warning_description)\n",
            "/usr/local/lib/python3.6/dist-packages/statsmodels/base/model.py:568: ConvergenceWarning: Maximum Likelihood optimization failed to converge. Check mle_retvals\n",
            "  ConvergenceWarning)\n"
          ],
          "name": "stderr"
        }
      ]
    },
    {
      "cell_type": "code",
      "metadata": {
        "colab": {
          "base_uri": "https://localhost:8080/"
        },
        "id": "NY_bFjkExqbP",
        "outputId": "27adb321-05f6-4222-da4e-02f63bd39b7e"
      },
      "source": [
        "yahoo_open['Open'].shape"
      ],
      "execution_count": null,
      "outputs": [
        {
          "output_type": "execute_result",
          "data": {
            "text/plain": [
              "(61,)"
            ]
          },
          "metadata": {
            "tags": []
          },
          "execution_count": 274
        }
      ]
    },
    {
      "cell_type": "code",
      "metadata": {
        "id": "k2day8Pwxz5P"
      },
      "source": [
        "train = yahoo_open[:50]\r\n",
        "test = yahoo_open[51:]\r\n",
        "start = len(train)\r\n",
        "end =len(train)+len(test)-1\r\n"
      ],
      "execution_count": null,
      "outputs": []
    },
    {
      "cell_type": "code",
      "metadata": {
        "id": "UlMV6WqV2pNb"
      },
      "source": [
        "yahoo_open['forecast'] = result.predict(start=start, end=end, dynamic=True)"
      ],
      "execution_count": null,
      "outputs": []
    },
    {
      "cell_type": "code",
      "metadata": {
        "colab": {
          "base_uri": "https://localhost:8080/",
          "height": 297
        },
        "id": "Xk0gQd3z3BU2",
        "outputId": "1b1f9c62-c48f-42cf-d88a-40b88414fbb4"
      },
      "source": [
        "yahoo_open[['Open', 'forecast']].plot()"
      ],
      "execution_count": null,
      "outputs": [
        {
          "output_type": "execute_result",
          "data": {
            "text/plain": [
              "<matplotlib.axes._subplots.AxesSubplot at 0x7fd4a4503be0>"
            ]
          },
          "metadata": {
            "tags": []
          },
          "execution_count": 277
        },
        {
          "output_type": "display_data",
          "data": {
            "image/png": "[encoded data removed]",
            "text/plain": [
              "<Figure size 432x288 with 1 Axes>"
            ]
          },
          "metadata": {
            "tags": [],
            "needs_background": "light"
          }
        }
      ]
    },
    {
      "cell_type": "code",
      "metadata": {
        "id": "wUP47qHE3FPH"
      },
      "source": [
        "FutureForecast = result.predict(start = len(yahoo_open), end = len(yahoo_open) + 20, dynamic = True )"
      ],
      "execution_count": null,
      "outputs": []
    },
    {
      "cell_type": "code",
      "metadata": {
        "colab": {
          "base_uri": "https://localhost:8080/",
          "height": 297
        },
        "id": "IyHBvjTGER10",
        "outputId": "770acdc4-09b0-4786-8203-17aac024bf62"
      },
      "source": [
        "yahoo_open[['Open', 'forecast']].plot()\r\n",
        "FutureForecast.plot()"
      ],
      "execution_count": null,
      "outputs": [
        {
          "output_type": "execute_result",
          "data": {
            "text/plain": [
              "<matplotlib.axes._subplots.AxesSubplot at 0x7fd4a48c4550>"
            ]
          },
          "metadata": {
            "tags": []
          },
          "execution_count": 279
        },
        {
          "output_type": "display_data",
          "data": {
            "image/png": "[encoded data removed]",
            "text/plain": [
              "<Figure size 432x288 with 1 Axes>"
            ]
          },
          "metadata": {
            "tags": [],
            "needs_background": "light"
          }
        }
      ]
    }
  ]
}